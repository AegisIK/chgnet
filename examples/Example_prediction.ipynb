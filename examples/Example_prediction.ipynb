{
 "cells": [
  {
   "cell_type": "markdown",
   "metadata": {},
   "source": [
    "# This notebook shows example to load the CHGNet for prediction"
   ]
  },
  {
   "cell_type": "code",
   "execution_count": 2,
   "metadata": {},
   "outputs": [],
   "source": [
    "import torch\n",
    "import numpy as np\n",
    "from chgnet.model.model import CHGNet\n",
    "from pymatgen.core import Structure, Lattice"
   ]
  },
  {
   "cell_type": "markdown",
   "metadata": {},
   "source": [
    "### Read structure from a json or cif file"
   ]
  },
  {
   "cell_type": "code",
   "execution_count": 3,
   "metadata": {},
   "outputs": [],
   "source": [
    "struc = Structure.from_file('./o-LiMnO2_unit.cif')\n",
    "print(struc)"
   ]
  },
  {
   "cell_type": "markdown",
   "metadata": {},
   "source": [
    "### Define Model"
   ]
  },
  {
   "cell_type": "code",
   "execution_count": 4,
   "metadata": {},
   "outputs": [
    {
     "name": "stdout",
     "output_type": "stream",
     "text": [
      "CrystalGraphConverter initialized with atom_cutoff5, bond_cutoff3\n",
      "Model initialized with  252222  Parameters\n"
     ]
    }
   ],
   "source": [
    "model = CHGNet.load()\n",
    "\n",
    "# Or you can read your own model\n",
    "# model = CHGNet.from_file(model_path)"
   ]
  },
  {
   "cell_type": "markdown",
   "metadata": {},
   "source": [
    "### Predict energy, force, stress with CHGNet"
   ]
  },
  {
   "cell_type": "code",
   "execution_count": 5,
   "metadata": {
    "pycharm": {
     "name": "#%%\n"
    }
   },
   "outputs": [
    {
     "name": "stdout",
     "output_type": "stream",
     "text": [
      "{'e': 0.026166003197431564, 'f': [array([[ 9.5367432e-07,  4.7683716e-07, -0.0000000e+00],\n",
      "       [-9.5367432e-07, -0.0000000e+00,  4.7683716e-07]], dtype=float32)], 's': [array([[ 7.0154028e-06,  0.0000000e+00, -3.5077014e-06],\n",
      "       [ 7.0154028e-06,  0.0000000e+00, -3.5077014e-06],\n",
      "       [ 7.0154028e-06,  0.0000000e+00, -3.5077014e-06]], dtype=float32)], 'm': [array([-0.59110296, -0.59115994], dtype=float32)]}\n"
     ]
    }
   ],
   "source": [
    "prediction = model.predict_structure(struc, task='efsm')\n",
    "print(prediction)\n"
   ]
  }
 ],
 "metadata": {
  "kernelspec": {
   "display_name": "Python 3.6.13 ('py3.6')",
   "language": "python",
   "name": "python3"
  },
  "language_info": {
   "codemirror_mode": {
    "name": "ipython",
    "version": 3
   },
   "file_extension": ".py",
   "mimetype": "text/x-python",
   "name": "python",
   "nbconvert_exporter": "python",
   "pygments_lexer": "ipython3",
   "version": "3.6.13"
  },
  "vscode": {
   "interpreter": {
    "hash": "b67ce1ce72267c00437006f47942ef5516d6546bcbecb0b5dfe4bc57e78b71c4"
   }
  }
 },
 "nbformat": 4,
 "nbformat_minor": 5
}