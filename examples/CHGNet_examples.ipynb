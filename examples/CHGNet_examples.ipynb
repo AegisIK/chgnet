{
 "cells": [
  {
   "cell_type": "markdown",
   "id": "f8c75a16",
   "metadata": {},
   "source": [
    "# This notebook shows example to load the CHGNet for prediction"
   ]
  },
  {
   "cell_type": "code",
   "execution_count": null,
   "id": "7ead933c",
   "metadata": {},
   "outputs": [],
   "source": [
    "from __future__ import annotations\n",
    "\n",
    "import numpy as np\n",
    "from pymatgen.core import Structure\n",
    "\n",
    "from chgnet.model.model import CHGNet"
   ]
  },
  {
   "cell_type": "markdown",
   "id": "16eeae1e",
   "metadata": {},
   "source": [
    "### Read structure from a json or cif file"
   ]
  },
  {
   "cell_type": "code",
   "execution_count": null,
   "id": "208fa4aa",
   "metadata": {},
   "outputs": [
    {
     "name": "stdout",
     "output_type": "stream",
     "text": [
      "Full Formula (Li2 Mn2 O4)\n",
      "Reduced Formula: LiMnO2\n",
      "abc   :   2.868779   4.634475   5.832507\n",
      "angles:  90.000000  90.000000  90.000000\n",
      "Sites (8)\n",
      "  #  SP      a    b         c\n",
      "---  ----  ---  ---  --------\n",
      "  0  Li+   0.5  0.5  0.37975\n",
      "  1  Li+   0    0    0.62025\n",
      "  2  Mn3+  0.5  0.5  0.863252\n",
      "  3  Mn3+  0    0    0.136747\n",
      "  4  O2-   0.5  0    0.360824\n",
      "  5  O2-   0    0.5  0.098514\n",
      "  6  O2-   0.5  0    0.901486\n",
      "  7  O2-   0    0.5  0.639176\n"
     ]
    }
   ],
   "source": [
    "structure = Structure.from_file(\"./o-LiMnO2_unit.cif\")\n",
    "print(structure)"
   ]
  },
  {
   "cell_type": "markdown",
   "id": "abcc09b4",
   "metadata": {},
   "source": [
    "### Define Model"
   ]
  },
  {
   "cell_type": "code",
   "execution_count": null,
   "id": "c04a0993",
   "metadata": {},
   "outputs": [
    {
     "name": "stdout",
     "output_type": "stream",
     "text": [
      "CHGNet initialized with 400438 Parameters\n"
     ]
    }
   ],
   "source": [
    "chgnet = CHGNet.load()\n",
    "\n",
    "# Or you can read your own model\n",
    "# model = CHGNet.from_file(model_path)"
   ]
  },
  {
   "cell_type": "markdown",
   "id": "961d51fc",
   "metadata": {},
   "source": [
    "# Predict energy, force, stress, magmom"
   ]
  },
  {
   "cell_type": "code",
   "execution_count": null,
   "id": "2c7c1997",
   "metadata": {
    "pycharm": {
     "name": "#%%\n"
    }
   },
   "outputs": [
    {
     "name": "stdout",
     "output_type": "stream",
     "text": [
      "CHGNet predicted energy:\n",
      "-7.371591567993164\n",
      "CHGNet predicted force:\n",
      "[[ 4.4703484e-08 -4.2840838e-08  2.4071064e-02]\n",
      " [-4.4703484e-08 -1.4551915e-08 -2.4071217e-02]\n",
      " [-1.7881393e-07  1.0244548e-08  2.5402933e-02]\n",
      " [ 5.9604645e-08 -2.3283064e-08 -2.5402665e-02]\n",
      " [-1.1920929e-07  6.6356733e-08 -2.1660209e-02]\n",
      " [ 2.3543835e-06 -8.0077443e-06  9.5508099e-03]\n",
      " [-2.2947788e-06  7.9898164e-06 -9.5513463e-03]\n",
      " [-5.9604645e-08 -0.0000000e+00  2.1660626e-02]]\n",
      "CHGNet predicted stress:\n",
      "[[ 3.3677638e-01 -3.7330341e-07 -5.1117036e-06]\n",
      " [ 1.0701370e-06  2.4674933e-01  1.8477700e-05]\n",
      " [-4.4460303e-06  1.9265182e-05  4.0324528e-02]]\n",
      "CHGNet predicted magmom:\n",
      "[0.00521556 0.0052153  3.8572898  3.8572903  0.02538028 0.03706942\n",
      " 0.03706949 0.02538028]\n"
     ]
    }
   ],
   "source": [
    "prediction = chgnet.predict_structure(structure)\n",
    "print(\"CHGNet predicted energy:\")\n",
    "print(prediction[\"e\"])\n",
    "print(\"CHGNet predicted force:\")\n",
    "print(prediction[\"f\"])\n",
    "print(\"CHGNet predicted stress:\")\n",
    "print(prediction[\"s\"])\n",
    "print(\"CHGNet predicted magmom:\")\n",
    "print(prediction[\"m\"])"
   ]
  },
  {
   "cell_type": "markdown",
   "id": "2258f2f5",
   "metadata": {},
   "source": [
    "# Structure Optimization"
   ]
  },
  {
   "cell_type": "code",
   "execution_count": null,
   "id": "27dac383",
   "metadata": {},
   "outputs": [
    {
     "name": "stdout",
     "output_type": "stream",
     "text": [
      "CHGNet initialized with 400438 Parameters\n"
     ]
    }
   ],
   "source": [
    "from chgnet.model import StructOptimizer\n",
    "\n",
    "relaxer = StructOptimizer()"
   ]
  },
  {
   "cell_type": "code",
   "execution_count": null,
   "id": "736c520c",
   "metadata": {},
   "outputs": [
    {
     "name": "stdout",
     "output_type": "stream",
     "text": [
      "      Step     Time          Energy         fmax\n",
      "*Force-consistent energies used in optimization.\n",
      "FIRE:    0 01:47:21      -58.972733*       0.1630\n",
      "FIRE:    1 01:47:21      -58.972851*       0.1348\n",
      "FIRE:    2 01:47:21      -58.972923*       0.0688\n",
      "CHGNet relaxed structure\n",
      "Full Formula (Li2 Mn2 O4)\n",
      "Reduced Formula: LiMnO2\n",
      "abc   :   2.865072   4.628857   5.833245\n",
      "angles:  90.000002  89.999998  90.000001\n",
      "Sites (8)\n",
      "  #  SP       a     b         c      magmom\n",
      "---  ----  ----  ----  --------  ----------\n",
      "  0  Li+    0.5   0.5  0.379802  0.00517052\n",
      "  1  Li+   -0    -0    0.620198  0.00517061\n",
      "  2  Mn3+   0.5   0.5  0.863306  3.85418\n",
      "  3  Mn3+  -0     0    0.136694  3.85418\n",
      "  4  O2-    0.5  -0    0.360787  0.025221\n",
      "  5  O2-    0     0.5  0.098542  0.0369351\n",
      "  6  O2-    0.5   0    0.901458  0.0369353\n",
      "  7  O2-   -0     0.5  0.639213  0.025221\n"
     ]
    }
   ],
   "source": [
    "result = relaxer.relax(structure, steps=10)\n",
    "print(\"CHGNet relaxed structure\")\n",
    "print(result[\"final_structure\"])"
   ]
  },
  {
   "cell_type": "markdown",
   "id": "06f7e84c",
   "metadata": {},
   "source": [
    "# Molecular Dynamics"
   ]
  },
  {
   "cell_type": "code",
   "execution_count": null,
   "id": "1a59a5b5",
   "metadata": {},
   "outputs": [
    {
     "name": "stderr",
     "output_type": "stream",
     "text": [
      "/Users/bowendeng/miniforge3/lib/python3.9/site-packages/ase/md/nvtberendsen.py:95: RuntimeWarning: divide by zero encountered in double_scalars\n",
      "  (self.temperature / old_temperature - 1.0) *\n"
     ]
    }
   ],
   "source": [
    "from chgnet.model.dynamics import MolecularDynamics\n",
    "\n",
    "md = MolecularDynamics(\n",
    "    atoms=structure,\n",
    "    model=chgnet,\n",
    "    ensemble=\"nvt\",\n",
    "    compressibility_au=1.6,\n",
    "    temperature=1000,  # in k\n",
    "    timestep=2,  # in fs\n",
    "    trajectory=\"md_out.traj\",\n",
    "    logfile=\"md_out.log\",\n",
    "    loginterval=100,\n",
    "    use_device=\"cpu\",  # use 'cuda' for faster MD\n",
    ")\n",
    "md.run(50)  # run a 0.1 ps MD simulation"
   ]
  },
  {
   "cell_type": "markdown",
   "id": "c6a10ec8",
   "metadata": {},
   "source": [
    "# Magmom Visualization"
   ]
  },
  {
   "cell_type": "code",
   "execution_count": null,
   "id": "2d5c2f93",
   "metadata": {},
   "outputs": [
    {
     "name": "stdout",
     "output_type": "stream",
     "text": [
      "Li+16 Mn3+16 O2-32\n"
     ]
    }
   ],
   "source": [
    "supercell = structure.copy()\n",
    "supercell.make_supercell([2, 2, 2])\n",
    "print(supercell.composition)"
   ]
  },
  {
   "cell_type": "code",
   "execution_count": null,
   "id": "db4c9f16",
   "metadata": {},
   "outputs": [
    {
     "name": "stdout",
     "output_type": "stream",
     "text": [
      "Li+8 Mn3+16 O2-32\n"
     ]
    }
   ],
   "source": [
    "import random\n",
    "\n",
    "n_Li = supercell.composition.as_dict()[\"Li+\"]\n",
    "remove_ids = random.sample(list(np.arange(n_Li)), int(n_Li / 2))\n",
    "\n",
    "supercell.remove_sites(remove_ids)\n",
    "print(supercell.composition)"
   ]
  },
  {
   "cell_type": "code",
   "execution_count": null,
   "id": "a0fe8e50",
   "metadata": {},
   "outputs": [
    {
     "name": "stdout",
     "output_type": "stream",
     "text": [
      "      Step     Time          Energy         fmax\n",
      "*Force-consistent energies used in optimization.\n",
      "FIRE:    0 02:13:58     -425.880188*      21.1362\n",
      "FIRE:    1 02:13:58     -399.534912*     270.2558\n",
      "FIRE:    2 02:13:59     -425.745579*      50.8858\n",
      "FIRE:    3 02:13:59     -427.081738*       4.8638\n",
      "FIRE:    4 02:14:00     -426.017120*      53.2368\n",
      "FIRE:    5 02:14:00     -426.655079*      35.8028\n",
      "FIRE:    6 02:14:01     -427.191620*       8.6788\n",
      "FIRE:    7 02:14:01     -427.113461*      16.4483\n",
      "FIRE:    8 02:14:01     -427.133301*      15.4336\n",
      "FIRE:    9 02:14:02     -427.168655*      13.4499\n",
      "FIRE:   10 02:14:02     -427.211727*      10.5775\n",
      "FIRE:   11 02:14:03     -427.253170*       6.9844\n",
      "FIRE:   12 02:14:03     -427.284840*       2.9885\n",
      "FIRE:   13 02:14:04     -427.302410*       2.1108\n",
      "FIRE:   14 02:14:04     -427.308605*       4.6919\n",
      "FIRE:   15 02:14:04     -427.309460*       4.6109\n",
      "FIRE:   16 02:14:05     -427.311142*       4.4498\n",
      "FIRE:   17 02:14:05     -427.313599*       4.2130\n",
      "FIRE:   18 02:14:06     -427.316776*       3.9046\n",
      "FIRE:   19 02:14:06     -427.320541*       3.5328\n",
      "FIRE:   20 02:14:07     -427.324841*       3.1050\n",
      "FIRE:   21 02:14:07     -427.329620*       2.6328\n",
      "FIRE:   22 02:14:08     -427.335308*       2.0834\n",
      "FIRE:   23 02:14:08     -427.341957*       2.0737\n",
      "FIRE:   24 02:14:09     -427.349674*       2.0621\n",
      "FIRE:   25 02:14:09     -427.358673*       2.0487\n",
      "FIRE:   26 02:14:09     -427.369194*       2.0335\n",
      "FIRE:   27 02:14:10     -427.381824*       2.0164\n",
      "FIRE:   28 02:14:10     -427.397285*       1.9977\n",
      "FIRE:   29 02:14:11     -427.416512*       2.1633\n",
      "FIRE:   30 02:14:11     -427.440624*       2.0543\n",
      "FIRE:   31 02:14:12     -427.470264*       1.9301\n",
      "FIRE:   32 02:14:12     -427.505672*       1.9012\n",
      "FIRE:   33 02:14:13     -427.547089*       1.8660\n",
      "FIRE:   34 02:14:13     -427.595394*       1.8212\n",
      "FIRE:   35 02:14:14     -427.652832*       1.8830\n",
      "FIRE:   36 02:14:14     -427.721325*       1.6924\n",
      "FIRE:   37 02:14:14     -427.800606*       1.6069\n",
      "FIRE:   38 02:14:15     -427.889847*       1.5085\n",
      "FIRE:   39 02:14:15     -427.991238*       1.3957\n",
      "FIRE:   40 02:14:16     -428.103550*       1.2622\n",
      "FIRE:   41 02:14:16     -428.222752*       1.4358\n",
      "FIRE:   42 02:14:17     -428.348362*       0.9150\n",
      "FIRE:   43 02:14:17     -428.471649*       1.1935\n",
      "FIRE:   44 02:14:18     -428.588127*       1.0740\n",
      "FIRE:   45 02:14:18     -428.690319*       0.7190\n",
      "FIRE:   46 02:14:19     -428.775181*       0.9903\n",
      "FIRE:   47 02:14:19     -428.842419*       2.5688\n",
      "FIRE:   48 02:14:19     -428.894569*       5.0463\n",
      "FIRE:   49 02:14:20     -428.913368*       1.7843\n",
      "FIRE:   50 02:14:20     -428.921486*       2.5113\n",
      "FIRE:   51 02:14:21     -428.924103*       2.0590\n",
      "FIRE:   52 02:14:21     -428.928429*       1.2386\n",
      "FIRE:   53 02:14:22     -428.933369*       1.0500\n",
      "FIRE:   54 02:14:22     -428.938335*       1.0256\n",
      "FIRE:   55 02:14:23     -428.943810*       1.5362\n",
      "FIRE:   56 02:14:23     -428.950645*       1.8583\n",
      "FIRE:   57 02:14:23     -428.959377*       1.7148\n",
      "FIRE:   58 02:14:24     -428.970753*       1.0787\n",
      "FIRE:   59 02:14:24     -428.984104*       0.9440\n",
      "FIRE:   60 02:14:25     -428.999191*       0.9436\n",
      "FIRE:   61 02:14:25     -429.017696*       1.2505\n",
      "FIRE:   62 02:14:26     -429.040955*       0.8303\n",
      "FIRE:   63 02:14:26     -429.067577*       0.7555\n",
      "FIRE:   64 02:14:26     -429.097725*       1.2595\n",
      "FIRE:   65 02:14:27     -429.133720*       0.6157\n",
      "FIRE:   66 02:14:27     -429.172653*       1.1793\n",
      "FIRE:   67 02:14:28     -429.217167*       0.6082\n",
      "FIRE:   68 02:14:28     -429.264164*       1.2847\n",
      "FIRE:   69 02:14:29     -429.315701*       1.0185\n",
      "FIRE:   70 02:14:29     -429.370922*       0.5647\n",
      "FIRE:   71 02:14:30     -429.431030*       0.5182\n",
      "FIRE:   72 02:14:30     -429.497814*       1.1306\n",
      "FIRE:   73 02:14:30     -429.564465*       4.0813\n",
      "FIRE:   74 02:14:31     -429.553089*      13.9021\n",
      "FIRE:   75 02:14:31     -429.655949*       1.6239\n",
      "FIRE:   76 02:14:32     -429.657284*       1.1995\n",
      "FIRE:   77 02:14:32     -429.659206*       0.4666\n",
      "FIRE:   78 02:14:33     -429.661209*       0.4318\n",
      "FIRE:   79 02:14:33     -429.663372*       0.9553\n",
      "FIRE:   80 02:14:34     -429.666283*       1.1555\n",
      "FIRE:   81 02:14:34     -429.670235*       0.9089\n",
      "FIRE:   82 02:14:34     -429.674747*       0.4294\n",
      "FIRE:   83 02:14:35     -429.679821*       0.4293\n",
      "FIRE:   84 02:14:35     -429.685802*       0.8234\n",
      "FIRE:   85 02:14:36     -429.693626*       0.5939\n",
      "FIRE:   86 02:14:36     -429.702946*       0.4221\n",
      "FIRE:   87 02:14:37     -429.713413*       0.7969\n",
      "FIRE:   88 02:14:37     -429.726337*       0.4143\n",
      "FIRE:   89 02:14:38     -429.740704*       0.7566\n",
      "FIRE:   90 02:14:38     -429.757713*       0.4035\n",
      "FIRE:   91 02:14:39     -429.776485*       0.9145\n",
      "FIRE:   92 02:14:39     -429.798222*       0.6576\n",
      "FIRE:   93 02:14:39     -429.822975*       0.3666\n",
      "FIRE:   94 02:14:40     -429.851494*       0.3627\n",
      "FIRE:   95 02:14:40     -429.884926*       0.3580\n",
      "FIRE:   96 02:14:41     -429.924072*       0.3475\n",
      "FIRE:   97 02:14:41     -429.969173*       0.3380\n",
      "FIRE:   98 02:14:42     -430.016037*       2.3242\n",
      "FIRE:   99 02:14:42     -429.939106*      14.5438\n",
      "FIRE:  100 02:14:43     -430.022953*       9.2259\n",
      "FIRE:  101 02:14:43     -430.054756*       5.1721\n",
      "FIRE:  102 02:14:43     -430.070137*       0.8791\n",
      "FIRE:  103 02:14:44     -430.070271*       0.7925\n",
      "FIRE:  104 02:14:44     -430.070511*       0.6281\n",
      "FIRE:  105 02:14:45     -430.070805*       0.4044\n",
      "FIRE:  106 02:14:45     -430.071152*       0.2589\n",
      "FIRE:  107 02:14:46     -430.071445*       0.2584\n",
      "FIRE:  108 02:14:46     -430.071766*       0.3071\n",
      "FIRE:  109 02:14:46     -430.072166*       0.4382\n",
      "FIRE:  110 02:14:47     -430.072701*       0.4796\n",
      "FIRE:  111 02:14:47     -430.073421*       0.4061\n",
      "FIRE:  112 02:14:48     -430.074356*       0.2565\n",
      "FIRE:  113 02:14:48     -430.075424*       0.2563\n",
      "FIRE:  114 02:14:48     -430.076679*       0.2915\n",
      "FIRE:  115 02:14:49     -430.078281*       0.3621\n",
      "FIRE:  116 02:14:49     -430.080284*       0.2548\n",
      "FIRE:  117 02:14:50     -430.082714*       0.2537\n",
      "FIRE:  118 02:14:50     -430.085598*       0.3280\n",
      "FIRE:  119 02:14:51     -430.089256*       0.2518\n",
      "FIRE:  120 02:14:51     -430.093582*       0.2862\n",
      "FIRE:  121 02:14:52     -430.098869*       0.2487\n",
      "FIRE:  122 02:14:52     -430.105145*       0.3100\n",
      "FIRE:  123 02:14:52     -430.112782*       0.2427\n",
      "FIRE:  124 02:14:53     -430.121807*       0.3355\n",
      "FIRE:  125 02:14:53     -430.132435*       0.5470\n",
      "FIRE:  126 02:14:54     -430.144638*       0.9235\n",
      "FIRE:  127 02:14:54     -430.157509*       1.8626\n",
      "FIRE:  128 02:14:55     -430.164986*       4.2102\n",
      "FIRE:  129 02:14:55     -430.175800*       0.2184\n",
      "FIRE:  130 02:14:55     -430.168510*       3.8534\n",
      "FIRE:  131 02:14:56     -430.172169*       2.9052\n",
      "FIRE:  132 02:14:56     -430.176228*       1.2589\n",
      "FIRE:  133 02:14:57     -430.177189*       0.6573\n",
      "FIRE:  134 02:14:57     -430.177242*       0.6181\n",
      "FIRE:  135 02:14:57     -430.177349*       0.5420\n",
      "FIRE:  136 02:14:58     -430.177483*       0.4343\n",
      "FIRE:  137 02:14:58     -430.177616*       0.3021\n",
      "FIRE:  138 02:14:59     -430.177803*       0.2162\n",
      "FIRE:  139 02:14:59     -430.177963*       0.2159\n",
      "FIRE:  140 02:15:00     -430.178123*       0.2157\n",
      "FIRE:  141 02:15:00     -430.178337*       0.2405\n",
      "FIRE:  142 02:15:00     -430.178604*       0.3202\n",
      "FIRE:  143 02:15:01     -430.178951*       0.3437\n",
      "FIRE:  144 02:15:01     -430.179379*       0.2948\n",
      "FIRE:  145 02:15:02     -430.179939*       0.2148\n",
      "FIRE:  146 02:15:02     -430.180634*       0.2148\n",
      "FIRE:  147 02:15:02     -430.181408*       0.2146\n",
      "FIRE:  148 02:15:03     -430.182396*       0.2657\n",
      "FIRE:  149 02:15:03     -430.183651*       0.2137\n",
      "FIRE:  150 02:15:04     -430.185173*       0.2128\n",
      "FIRE:  151 02:15:04     -430.186962*       0.2119\n",
      "FIRE:  152 02:15:04     -430.189205*       0.2110\n",
      "FIRE:  153 02:15:05     -430.191929*       0.2101\n",
      "FIRE:  154 02:15:05     -430.195187*       0.2253\n",
      "FIRE:  155 02:15:06     -430.199165*       0.2070\n",
      "FIRE:  156 02:15:06     -430.203918*       0.2229\n",
      "FIRE:  157 02:15:07     -430.209686*       0.2026\n",
      "FIRE:  158 02:15:07     -430.216602*       0.1994\n",
      "FIRE:  159 02:15:07     -430.224827*       0.1955\n",
      "FIRE:  160 02:15:08     -430.234493*       0.5177\n",
      "FIRE:  161 02:15:08     -430.244827*       1.4550\n"
     ]
    },
    {
     "name": "stdout",
     "output_type": "stream",
     "text": [
      "FIRE:  162 02:15:09     -430.250275*       3.8172\n",
      "FIRE:  163 02:15:09     -430.259167*       0.1797\n",
      "FIRE:  164 02:15:09     -430.252945*       3.5215\n",
      "FIRE:  165 02:15:10     -430.256096*       2.6313\n",
      "FIRE:  166 02:15:10     -430.259514*       1.0901\n",
      "FIRE:  167 02:15:11     -430.260155*       0.6881\n",
      "FIRE:  168 02:15:11     -430.260208*       0.6465\n",
      "FIRE:  169 02:15:12     -430.260288*       0.5649\n",
      "FIRE:  170 02:15:12     -430.260422*       0.4496\n",
      "FIRE:  171 02:15:12     -430.260555*       0.3081\n",
      "FIRE:  172 02:15:13     -430.260689*       0.1791\n",
      "FIRE:  173 02:15:13     -430.260822*       0.1789\n",
      "FIRE:  174 02:15:14     -430.260956*       0.1787\n",
      "FIRE:  175 02:15:14     -430.261116*       0.2645\n",
      "FIRE:  176 02:15:14     -430.261303*       0.3426\n",
      "FIRE:  177 02:15:15     -430.261543*       0.3594\n",
      "FIRE:  178 02:15:15     -430.261917*       0.3000\n",
      "FIRE:  179 02:15:16     -430.262371*       0.1781\n",
      "FIRE:  180 02:15:16     -430.262878*       0.1781\n",
      "FIRE:  181 02:15:17     -430.263493*       0.2054\n",
      "FIRE:  182 02:15:17     -430.264240*       0.2814\n",
      "FIRE:  183 02:15:17     -430.265202*       0.1951\n",
      "FIRE:  184 02:15:18     -430.266376*       0.1766\n",
      "FIRE:  185 02:15:18     -430.267765*       0.2312\n",
      "FIRE:  186 02:15:19     -430.269474*       0.1907\n",
      "FIRE:  187 02:15:19     -430.271584*       0.1746\n",
      "FIRE:  188 02:15:20     -430.274067*       0.2320\n",
      "FIRE:  189 02:15:20     -430.277164*       0.1721\n",
      "FIRE:  190 02:15:20     -430.280849*       0.2182\n",
      "FIRE:  191 02:15:21     -430.285282*       0.2023\n",
      "FIRE:  192 02:15:21     -430.290649*       0.1664\n",
      "FIRE:  193 02:15:22     -430.297058*       0.1636\n",
      "FIRE:  194 02:15:22     -430.304642*       0.3738\n",
      "FIRE:  195 02:15:23     -430.312920*       1.1864\n",
      "FIRE:  196 02:15:23     -430.317005*       3.3955\n",
      "FIRE:  197 02:15:23     -430.324108*       0.1539\n",
      "FIRE:  198 02:15:24     -430.319088*       3.1507\n",
      "FIRE:  199 02:15:24     -430.321678*       2.3321\n",
      "FIRE:  200 02:15:25     -430.324429*       0.9189\n",
      "FIRE:  201 02:15:25     -430.324856*       0.6958\n",
      "FIRE:  202 02:15:25     -430.324883*       0.6520\n",
      "FIRE:  203 02:15:26     -430.324989*       0.5672\n",
      "FIRE:  204 02:15:26     -430.325096*       0.4471\n",
      "FIRE:  205 02:15:27     -430.325230*       0.3006\n",
      "FIRE:  206 02:15:27     -430.325336*       0.1558\n",
      "FIRE:  207 02:15:28     -430.325417*       0.1531\n",
      "FIRE:  208 02:15:28     -430.325523*       0.1641\n",
      "FIRE:  209 02:15:28     -430.325657*       0.2825\n",
      "FIRE:  210 02:15:29     -430.325790*       0.3561\n",
      "FIRE:  211 02:15:29     -430.326031*       0.3656\n",
      "FIRE:  212 02:15:30     -430.326298*       0.2961\n",
      "FIRE:  213 02:15:30     -430.326698*       0.1506\n",
      "FIRE:  214 02:15:30     -430.327099*       0.1538\n",
      "FIRE:  215 02:15:31     -430.327553*       0.2228\n",
      "FIRE:  216 02:15:31     -430.328167*       0.2859\n",
      "FIRE:  217 02:15:32     -430.328941*       0.1816\n",
      "FIRE:  218 02:15:32     -430.329849*       0.1510\n",
      "FIRE:  219 02:15:33     -430.330944*       0.2443\n",
      "FIRE:  220 02:15:33     -430.332306*       0.1762\n",
      "FIRE:  221 02:15:33     -430.333961*       0.1526\n",
      "FIRE:  222 02:15:34     -430.335938*       0.2263\n",
      "FIRE:  223 02:15:34     -430.338367*       0.1475\n",
      "FIRE:  224 02:15:35     -430.341278*       0.1980\n",
      "FIRE:  225 02:15:35     -430.344803*       0.2375\n",
      "FIRE:  226 02:15:35     -430.348995*       0.1435\n",
      "FIRE:  227 02:15:36     -430.354042*       0.1436\n",
      "FIRE:  228 02:15:36     -430.360050*       0.1438\n",
      "FIRE:  229 02:15:37     -430.367073*       0.5277\n",
      "FIRE:  230 02:15:37     -430.372894*       2.0626\n",
      "FIRE:  231 02:15:37     -430.352680*       7.5293\n",
      "FIRE:  232 02:15:38     -430.381893*       2.1981\n",
      "FIRE:  233 02:15:38     -430.383442*       1.5192\n",
      "FIRE:  234 02:15:39     -430.384830*       0.3626\n",
      "FIRE:  235 02:15:39     -430.384617*       0.8869\n",
      "FIRE:  236 02:15:40     -430.384724*       0.8159\n",
      "FIRE:  237 02:15:40     -430.384830*       0.6790\n",
      "FIRE:  238 02:15:40     -430.385017*       0.4886\n",
      "FIRE:  239 02:15:41     -430.385178*       0.2619\n",
      "FIRE:  240 02:15:41     -430.385311*       0.1319\n",
      "FIRE:  241 02:15:42     -430.385365*       0.1970\n",
      "FIRE:  242 02:15:42     -430.385445*       0.3640\n",
      "FIRE:  243 02:15:42     -430.385471*       0.4736\n",
      "FIRE:  244 02:15:43     -430.385632*       0.4998\n",
      "FIRE:  245 02:15:43     -430.385872*       0.4248\n",
      "FIRE:  246 02:15:44     -430.386192*       0.2425\n",
      "FIRE:  247 02:15:44     -430.386486*       0.1315\n",
      "FIRE:  248 02:15:44     -430.386806*       0.2761\n",
      "FIRE:  249 02:15:45     -430.387234*       0.3967\n",
      "FIRE:  250 02:15:45     -430.387768*       0.2981\n",
      "FIRE:  251 02:15:46     -430.388489*       0.1311\n",
      "FIRE:  252 02:15:46     -430.389210*       0.3027\n",
      "FIRE:  253 02:15:46     -430.390198*       0.2900\n",
      "FIRE:  254 02:15:47     -430.391426*       0.1285\n",
      "FIRE:  255 02:15:47     -430.392788*       0.3175\n",
      "FIRE:  256 02:15:48     -430.394550*       0.1288\n",
      "FIRE:  257 02:15:48     -430.396553*       0.3101\n",
      "FIRE:  258 02:15:48     -430.399090*       0.2132\n",
      "FIRE:  259 02:15:49     -430.402161*       0.1247\n",
      "FIRE:  260 02:15:49     -430.405712*       0.2999\n",
      "FIRE:  261 02:15:50     -430.409718*       0.7560\n",
      "FIRE:  262 02:15:50     -430.413216*       1.7300\n",
      "FIRE:  263 02:15:50     -430.415112*       0.1984\n",
      "FIRE:  264 02:15:51     -430.414177*       1.4650\n",
      "FIRE:  265 02:15:51     -430.414684*       1.1331\n",
      "FIRE:  266 02:15:52     -430.415352*       0.5480\n",
      "FIRE:  267 02:15:52     -430.415592*       0.1482\n",
      "FIRE:  268 02:15:53     -430.415619*       0.1402\n",
      "FIRE:  269 02:15:53     -430.415619*       0.1242\n",
      "FIRE:  270 02:15:53     -430.415646*       0.1212\n",
      "FIRE:  271 02:15:54     -430.415699*       0.1208\n",
      "FIRE:  272 02:15:54     -430.415726*       0.1202\n",
      "FIRE:  273 02:15:55     -430.415779*       0.1197\n",
      "FIRE:  274 02:15:55     -430.415833*       0.1192\n",
      "FIRE:  275 02:15:55     -430.415913*       0.1187\n",
      "FIRE:  276 02:15:56     -430.415966*       0.1183\n",
      "FIRE:  277 02:15:56     -430.416100*       0.1181\n",
      "FIRE:  278 02:15:57     -430.416233*       0.1181\n",
      "FIRE:  279 02:15:57     -430.416420*       0.1184\n",
      "FIRE:  280 02:15:58     -430.416634*       0.1190\n",
      "FIRE:  281 02:15:58     -430.416874*       0.1195\n",
      "FIRE:  282 02:15:58     -430.417194*       0.1198\n",
      "FIRE:  283 02:15:59     -430.417568*       0.1195\n",
      "FIRE:  284 02:15:59     -430.418102*       0.1187\n",
      "FIRE:  285 02:16:00     -430.418663*       0.1175\n",
      "FIRE:  286 02:16:00     -430.419411*       0.1170\n",
      "FIRE:  287 02:16:00     -430.420319*       0.1174\n",
      "FIRE:  288 02:16:01     -430.421387*       0.1178\n",
      "FIRE:  289 02:16:01     -430.422695*       0.1167\n",
      "FIRE:  290 02:16:02     -430.424297*       0.1148\n",
      "FIRE:  291 02:16:02     -430.426220*       0.1149\n",
      "FIRE:  292 02:16:02     -430.428543*       0.1144\n",
      "FIRE:  293 02:16:03     -430.431320*       0.1110\n",
      "FIRE:  294 02:16:03     -430.434685*       0.1606\n",
      "FIRE:  295 02:16:04     -430.438503*       0.4412\n",
      "FIRE:  296 02:16:04     -430.442162*       1.3343\n",
      "FIRE:  297 02:16:04     -430.439251*       3.9695\n",
      "FIRE:  298 02:16:05     -430.448303*       0.5314\n",
      "FIRE:  299 02:16:05     -430.448437*       0.3847\n",
      "FIRE:  300 02:16:06     -430.448544*       0.1339\n",
      "FIRE:  301 02:16:06     -430.448624*       0.1412\n",
      "FIRE:  302 02:16:07     -430.448704*       0.3329\n",
      "FIRE:  303 02:16:07     -430.448864*       0.3825\n",
      "FIRE:  304 02:16:07     -430.449078*       0.2856\n",
      "FIRE:  305 02:16:08     -430.449318*       0.1022\n",
      "FIRE:  306 02:16:08     -430.449585*       0.1598\n",
      "FIRE:  307 02:16:09     -430.449852*       0.2945\n",
      "FIRE:  308 02:16:09     -430.450306*       0.2100\n",
      "FIRE:  309 02:16:09     -430.450840*       0.1016\n",
      "FIRE:  310 02:16:10     -430.451427*       0.2654\n",
      "FIRE:  311 02:16:10     -430.452229*       0.1017\n",
      "FIRE:  312 02:16:11     -430.453136*       0.2444\n",
      "FIRE:  313 02:16:11     -430.454338*       0.1028\n",
      "FIRE:  314 02:16:12     -430.455727*       0.3077\n",
      "FIRE:  315 02:16:12     -430.457462*       0.1508\n",
      "FIRE:  316 02:16:12     -430.459545*       0.0990\n"
     ]
    }
   ],
   "source": [
    "result = relaxer.relax(supercell, steps=500, verbose=True)"
   ]
  },
  {
   "cell_type": "code",
   "execution_count": null,
   "id": "c96fb111",
   "metadata": {},
   "outputs": [],
   "source": [
    "magmom_initial = chgnet.predict_structure(supercell)[\"m\"]\n",
    "magmom_relaxed = result[\"final_structure\"].site_properties[\"magmom\"]"
   ]
  },
  {
   "cell_type": "code",
   "execution_count": null,
   "id": "7c885cd6",
   "metadata": {},
   "outputs": [],
   "source": [
    "bins = np.histogram(np.hstack((magmom_initial, magmom_relaxed)), bins=40)[\n",
    "    1\n",
    "]  # get the bin edges"
   ]
  },
  {
   "cell_type": "code",
   "execution_count": null,
   "id": "c5694caf",
   "metadata": {},
   "outputs": [
    {
     "data": {
      "text/plain": [
       "<matplotlib.legend.Legend at 0x2878919d0>"
      ]
     },
     "execution_count": null,
     "metadata": {},
     "output_type": "execute_result"
    },
    {
     "data": {
      "image/png": "[encoded data removed]",
      "text/plain": [
       "<Figure size 360x360 with 1 Axes>"
      ]
     },
     "metadata": {
      "needs_background": "light"
     },
     "output_type": "display_data"
    }
   ],
   "source": [
    "import matplotlib.pyplot as plt\n",
    "\n",
    "fig = plt.figure(figsize=((5, 5)))\n",
    "ax = fig.add_subplot()\n",
    "# ax.set_title(r'Na$_2$V$_2$(PO$_4$)$_3$ magmom')\n",
    "ax.set_xlabel(\"magmom\")\n",
    "ax.set_ylabel(\"count\")\n",
    "\n",
    "bins = np.histogram(np.hstack((magmom_initial, magmom_relaxed)), range=[3, 4], bins=20)[\n",
    "    1\n",
    "]\n",
    "ax.hist(\n",
    "    magmom_initial[8:24], bins, alpha=0.5, color=\"cornflowerblue\", label=\"Unrelaxed\"\n",
    ")\n",
    "ax.hist(magmom_relaxed[8:24], bins, alpha=0.5, color=\"orange\", label=\"CHGNet-relaxed\")\n",
    "\n",
    "ax.legend()"
   ]
  }
 ],
 "metadata": {
  "kernelspec": {
   "display_name": "Python (tf)",
   "language": "python",
   "name": "myenv"
  },
  "language_info": {
   "codemirror_mode": {
    "name": "ipython",
    "version": 3
   },
   "file_extension": ".py",
   "mimetype": "text/x-python",
   "name": "python",
   "nbconvert_exporter": "python",
   "pygments_lexer": "ipython3",
   "version": "3.9.10"
  },
  "vscode": {
   "interpreter": {
    "hash": "b67ce1ce72267c00437006f47942ef5516d6546bcbecb0b5dfe4bc57e78b71c4"
   }
  }
 },
 "nbformat": 4,
 "nbformat_minor": 5
}
