{
 "cells": [
  {
   "cell_type": "markdown",
   "id": "f8c75a16",
   "metadata": {},
   "source": [
    "# Crystaltoolkit Relaxation Viewer\n",
    "\n",
    "This notebook shows how to visualize a CHGNet relaxation trajectory in a Plotly Dash app using Crystal Toolkit."
   ]
  },
  {
   "cell_type": "code",
   "execution_count": null,
   "id": "7ead933c",
   "metadata": {},
   "outputs": [],
   "source": [
    "from __future__ import annotations\n",
    "\n",
    "import numpy as np\n",
    "from pymatgen.core import Structure"
   ]
  },
  {
   "cell_type": "code",
   "execution_count": null,
   "id": "208fa4aa",
   "metadata": {},
   "outputs": [
    {
     "name": "stdout",
     "output_type": "stream",
     "text": [
      "('Pmmn', 59)\n"
     ]
    },
    {
     "data": {
      "text/plain": [
       "('P1', 1)"
      ]
     },
     "execution_count": null,
     "metadata": {},
     "output_type": "execute_result"
    }
   ],
   "source": [
    "structure = Structure.from_file(\"./o-LiMnO2_unit.cif\")\n",
    "print(structure.get_space_group_info())\n",
    "\n",
    "# perturb all atom positions by a small amount\n",
    "for site in structure:\n",
    "    site.coords += np.random.normal(size=3) * 0.3\n",
    "\n",
    "# stretch the cell by a small amount\n",
    "structure.scale_lattice(structure.volume * 1.1)\n",
    "\n",
    "structure.get_space_group_info()"
   ]
  },
  {
   "cell_type": "code",
   "execution_count": null,
   "id": "5d6e9fcc",
   "metadata": {},
   "outputs": [
    {
     "name": "stdout",
     "output_type": "stream",
     "text": [
      "CHGNet initialized with 400,438 parameters\n",
      "CHGNet will run on cpu\n",
      "      Step     Time          Energy         fmax\n",
      "*Force-consistent energies used in optimization.\n",
      "FIRE:    0 06:56:46      -49.977566*      35.0804\n",
      "FIRE:    1 06:56:46      -54.445950*       6.6021\n",
      "FIRE:    2 06:56:46      -53.259274*      17.6979\n",
      "FIRE:    3 06:56:46      -54.708866*      13.8175\n",
      "FIRE:    4 06:56:46      -55.995808*       3.6483\n",
      "FIRE:    5 06:56:46      -55.250874*      16.6567\n",
      "FIRE:    6 06:56:46      -55.627010*      13.1561\n",
      "FIRE:    7 06:56:46      -56.112236*       7.6342\n",
      "FIRE:    8 06:56:46      -56.430168*       3.1914\n",
      "FIRE:    9 06:56:46      -56.472912*       3.9039\n",
      "FIRE:   10 06:56:46      -56.479626*       3.8009\n",
      "FIRE:   11 06:56:47      -56.492607*       3.5976\n",
      "FIRE:   12 06:56:47      -56.511051*       3.3000\n",
      "FIRE:   13 06:56:47      -56.533810*       2.9178\n",
      "FIRE:   14 06:56:47      -56.559662*       2.4660\n",
      "FIRE:   15 06:56:47      -56.587429*       2.4747\n",
      "FIRE:   16 06:56:47      -56.616158*       2.5425\n",
      "FIRE:   17 06:56:47      -56.648476*       2.6155\n",
      "FIRE:   18 06:56:47      -56.684650*       2.6858\n",
      "FIRE:   19 06:56:47      -56.726299*       2.7394\n",
      "FIRE:   20 06:56:47      -56.776264*       2.7582\n",
      "FIRE:   21 06:56:47      -56.838661*       2.7248\n",
      "FIRE:   22 06:56:47      -56.917194*       2.6260\n",
      "FIRE:   23 06:56:47      -57.012753*       2.4575\n",
      "FIRE:   24 06:56:47      -57.122242*       2.2279\n",
      "FIRE:   25 06:56:47      -57.241516*       1.9606\n",
      "FIRE:   26 06:56:47      -57.371532*       1.7073\n",
      "FIRE:   27 06:56:47      -57.517536*       1.7258\n",
      "FIRE:   28 06:56:47      -57.677368*       1.7917\n",
      "FIRE:   29 06:56:47      -57.841778*       1.8117\n",
      "FIRE:   30 06:56:47      -58.004612*       1.6754\n",
      "FIRE:   31 06:56:47      -58.163723*       1.4574\n",
      "FIRE:   32 06:56:48      -58.308025*       1.2350\n",
      "FIRE:   33 06:56:48      -58.432453*       1.1091\n",
      "FIRE:   34 06:56:48      -58.544144*       1.0582\n",
      "FIRE:   35 06:56:48      -58.620159*       1.2751\n",
      "FIRE:   36 06:56:48      -58.615738*       1.6612\n",
      "FIRE:   37 06:56:48      -58.626575*       1.5536\n",
      "FIRE:   38 06:56:48      -58.645901*       1.3607\n",
      "FIRE:   39 06:56:48      -58.670609*       1.1297\n",
      "FIRE:   40 06:56:48      -58.698261*       0.9076\n",
      "FIRE:   41 06:56:48      -58.726364*       0.7327\n",
      "FIRE:   42 06:56:48      -58.752293*       0.6685\n",
      "FIRE:   43 06:56:48      -58.774933*       0.5931\n",
      "FIRE:   44 06:56:48      -58.796665*       0.4962\n",
      "FIRE:   45 06:56:48      -58.816956*       0.4735\n",
      "FIRE:   46 06:56:48      -58.835648*       0.4973\n",
      "FIRE:   47 06:56:48      -58.852970*       0.4694\n",
      "FIRE:   48 06:56:48      -58.865616*       0.4520\n",
      "FIRE:   49 06:56:48      -58.874474*       0.5356\n",
      "FIRE:   50 06:56:48      -58.882694*       0.6367\n",
      "FIRE:   51 06:56:48      -58.894508*       0.6576\n",
      "FIRE:   52 06:56:49      -58.912350*       0.5188\n",
      "FIRE:   53 06:56:49      -58.932625*       0.3490\n",
      "FIRE:   54 06:56:49      -58.935688*       1.0435\n",
      "FIRE:   55 06:56:49      -58.941608*       0.3654\n",
      "FIRE:   56 06:56:49      -58.943821*       0.5640\n",
      "FIRE:   57 06:56:49      -58.944614*       0.4567\n",
      "FIRE:   58 06:56:49      -58.945808*       0.2857\n",
      "FIRE:   59 06:56:49      -58.946907*       0.2810\n",
      "FIRE:   60 06:56:49      -58.947689*       0.2746\n",
      "FIRE:   61 06:56:49      -58.948395*       0.3609\n",
      "FIRE:   62 06:56:49      -58.949409*       0.3995\n",
      "FIRE:   63 06:56:49      -58.950813*       0.3275\n",
      "FIRE:   64 06:56:49      -58.952492*       0.2364\n",
      "FIRE:   65 06:56:49      -58.953991*       0.2213\n",
      "FIRE:   66 06:56:49      -58.955246*       0.2892\n",
      "FIRE:   67 06:56:49      -58.956867*       0.2910\n",
      "FIRE:   68 06:56:49      -58.958820*       0.1539\n",
      "FIRE:   69 06:56:49      -58.960258*       0.2089\n",
      "FIRE:   70 06:56:49      -58.961758*       0.2420\n",
      "FIRE:   71 06:56:50      -58.963486*       0.1025\n",
      "FIRE:   72 06:56:50      -58.964592*       0.2534\n",
      "FIRE:   73 06:56:50      -58.966057*       0.1010\n",
      "FIRE:   74 06:56:50      -58.966934*       0.2434\n",
      "FIRE:   75 06:56:50      -58.968113*       0.1538\n",
      "FIRE:   76 06:56:50      -58.969181*       0.1076\n",
      "FIRE:   77 06:56:50      -58.969845*       0.2345\n",
      "FIRE:   78 06:56:50      -58.970173*       0.1037\n",
      "FIRE:   79 06:56:50      -58.970284*       0.1343\n",
      "FIRE:   80 06:56:50      -58.970322*       0.1121\n",
      "FIRE:   81 06:56:50      -58.970390*       0.0961\n"
     ]
    }
   ],
   "source": [
    "import pandas as pd\n",
    "\n",
    "from chgnet.model import StructOptimizer\n",
    "\n",
    "results = StructOptimizer().relax(structure)"
   ]
  },
  {
   "cell_type": "code",
   "execution_count": null,
   "id": "c04ebd43",
   "metadata": {},
   "outputs": [],
   "source": [
    "struct_traj: list[Structure] = []\n",
    "for idx, coords in enumerate(results[\"trajectory\"].atom_positions):\n",
    "    lattice = results[\"trajectory\"].cells[idx]\n",
    "    struct = Structure(lattice, structure.species, coords, coords_are_cartesian=True)\n",
    "    struct_traj.append(struct)\n",
    "\n",
    "e_col = \"energy (eV/atom)\"\n",
    "vol_col = \"volume (A^3)\"\n",
    "spg_col = \"spacegroup\"\n",
    "df_traj = pd.DataFrame(\n",
    "    {\n",
    "        e_col: results[\"trajectory\"].energies,\n",
    "        vol_col: [struct.volume for struct in struct_traj],\n",
    "        spg_col: [struct.get_space_group_info() for struct in struct_traj],\n",
    "    }\n",
    ")\n",
    "df_traj.index.name = \"step\""
   ]
  },
  {
   "cell_type": "code",
   "execution_count": null,
   "id": "e7a91576",
   "metadata": {},
   "outputs": [
    {
     "data": {
      "application/vnd.jupyter.widget-view+json": {
       "model_id": "f05e016e773341f787ca8a78b8c817e6",
       "version_major": 2,
       "version_minor": 0
      },
      "text/plain": [
       "Retrieving ThermoDoc documents:   0%|          | 0/1 [00:00<?, ?it/s]"
      ]
     },
     "metadata": {},
     "output_type": "display_data"
    }
   ],
   "source": [
    "from pymatgen.ext.matproj import MPRester\n",
    "\n",
    "mp_id = \"mp-18767\"\n",
    "\n",
    "with MPRester() as mpr:\n",
    "    mp_doc = mpr.thermo.search(material_ids=[mp_id])[0]\n",
    "\n",
    "mp_energy = mp_doc.energy_per_atom * mp_doc.nsites"
   ]
  },
  {
   "cell_type": "code",
   "execution_count": null,
   "id": "c9f16422",
   "metadata": {},
   "outputs": [
    {
     "name": "stdout",
     "output_type": "stream",
     "text": [
      "Dash is running on http://127.0.0.1:8050/\n",
      "\n",
      "\u001b[1;31m---------------------------------------------------------------------------\u001b[0m\n",
      "\u001b[1;31mDuplicateIdError\u001b[0m                          Traceback (most recent call last)\n",
      "File \u001b[1;32m~/.venv/py310/lib/python3.10/site-packages/flask/app.py:1821\u001b[0m, in \u001b[0;36mFlask.full_dispatch_request\u001b[1;34m(self=<Flask '__main__'>)\u001b[0m\n",
      "\u001b[0;32m   1819\u001b[0m \u001b[38;5;28;01mtry\u001b[39;00m:\n",
      "\u001b[0;32m   1820\u001b[0m     request_started\u001b[38;5;241m.\u001b[39msend(\u001b[38;5;28mself\u001b[39m)\n",
      "\u001b[1;32m-> 1821\u001b[0m     rv \u001b[38;5;241m=\u001b[39m \u001b[38;5;28;43mself\u001b[39;49m\u001b[38;5;241;43m.\u001b[39;49m\u001b[43mpreprocess_request\u001b[49m\u001b[43m(\u001b[49m\u001b[43m)\u001b[49m\n",
      "        self \u001b[1;34m= <Flask '__main__'>\u001b[0m\n",
      "\u001b[0;32m   1822\u001b[0m     \u001b[38;5;28;01mif\u001b[39;00m rv \u001b[38;5;129;01mis\u001b[39;00m \u001b[38;5;28;01mNone\u001b[39;00m:\n",
      "\u001b[0;32m   1823\u001b[0m         rv \u001b[38;5;241m=\u001b[39m \u001b[38;5;28mself\u001b[39m\u001b[38;5;241m.\u001b[39mdispatch_request()\n",
      "\n",
      "File \u001b[1;32m~/.venv/py310/lib/python3.10/site-packages/flask/app.py:2312\u001b[0m, in \u001b[0;36mFlask.preprocess_request\u001b[1;34m(self=<Flask '__main__'>)\u001b[0m\n",
      "\u001b[0;32m   2310\u001b[0m \u001b[38;5;28;01mif\u001b[39;00m name \u001b[38;5;129;01min\u001b[39;00m \u001b[38;5;28mself\u001b[39m\u001b[38;5;241m.\u001b[39mbefore_request_funcs:\n",
      "\u001b[0;32m   2311\u001b[0m     \u001b[38;5;28;01mfor\u001b[39;00m before_func \u001b[38;5;129;01min\u001b[39;00m \u001b[38;5;28mself\u001b[39m\u001b[38;5;241m.\u001b[39mbefore_request_funcs[name]:\n",
      "\u001b[1;32m-> 2312\u001b[0m         rv \u001b[38;5;241m=\u001b[39m \u001b[38;5;28;43mself\u001b[39;49m\u001b[38;5;241;43m.\u001b[39;49m\u001b[43mensure_sync\u001b[49m\u001b[43m(\u001b[49m\u001b[43mbefore_func\u001b[49m\u001b[43m)\u001b[49m\u001b[43m(\u001b[49m\u001b[43m)\u001b[49m\n",
      "        before_func \u001b[1;34m= <bound method Dash._setup_server of <jupyter_dash.jupyter_app.JupyterDash object at 0x2aa936bc0>>\u001b[0m\u001b[1;34m\n",
      "        \u001b[0mself \u001b[1;34m= <Flask '__main__'>\u001b[0m\n",
      "\u001b[0;32m   2314\u001b[0m         \u001b[38;5;28;01mif\u001b[39;00m rv \u001b[38;5;129;01mis\u001b[39;00m \u001b[38;5;129;01mnot\u001b[39;00m \u001b[38;5;28;01mNone\u001b[39;00m:\n",
      "\u001b[0;32m   2315\u001b[0m             \u001b[38;5;28;01mreturn\u001b[39;00m rv\n",
      "\n",
      "File \u001b[1;32m~/.venv/py310/lib/python3.10/site-packages/dash/dash.py:1316\u001b[0m, in \u001b[0;36mDash._setup_server\u001b[1;34m(\n",
      "    self=<jupyter_dash.jupyter_app.JupyterDash object>\n",
      ")\u001b[0m\n",
      "\u001b[0;32m   1313\u001b[0m \u001b[38;5;28;01mif\u001b[39;00m \u001b[38;5;129;01mnot\u001b[39;00m \u001b[38;5;28mself\u001b[39m\u001b[38;5;241m.\u001b[39mlayout \u001b[38;5;129;01mand\u001b[39;00m \u001b[38;5;28mself\u001b[39m\u001b[38;5;241m.\u001b[39muse_pages:\n",
      "\u001b[0;32m   1314\u001b[0m     \u001b[38;5;28mself\u001b[39m\u001b[38;5;241m.\u001b[39mlayout \u001b[38;5;241m=\u001b[39m page_container\n",
      "\u001b[1;32m-> 1316\u001b[0m \u001b[43m_validate\u001b[49m\u001b[38;5;241;43m.\u001b[39;49m\u001b[43mvalidate_layout\u001b[49m\u001b[43m(\u001b[49m\u001b[38;5;28;43mself\u001b[39;49m\u001b[38;5;241;43m.\u001b[39;49m\u001b[43mlayout\u001b[49m\u001b[43m,\u001b[49m\u001b[43m \u001b[49m\u001b[38;5;28;43mself\u001b[39;49m\u001b[38;5;241;43m.\u001b[39;49m\u001b[43m_layout_value\u001b[49m\u001b[43m(\u001b[49m\u001b[43m)\u001b[49m\u001b[43m)\u001b[49m\n",
      "        self \u001b[1;34m= <jupyter_dash.jupyter_app.JupyterDash object at 0x2aa936bc0>\u001b[0m\u001b[1;34m\n",
      "        \u001b[0m_validate \u001b[1;34m= <module 'dash._validate' from '/Users/janosh/.venv/py310/lib/python3.10/site-packages/dash/_validate.py'>\u001b[0m\n",
      "\u001b[0;32m   1318\u001b[0m \u001b[38;5;28mself\u001b[39m\u001b[38;5;241m.\u001b[39m_generate_scripts_html()\n",
      "\u001b[0;32m   1319\u001b[0m \u001b[38;5;28mself\u001b[39m\u001b[38;5;241m.\u001b[39m_generate_css_dist_html()\n",
      "\n",
      "File \u001b[1;32m~/.venv/py310/lib/python3.10/site-packages/dash/_validate.py:416\u001b[0m, in \u001b[0;36mvalidate_layout\u001b[1;34m(\n",
      "    layout=Div(children=[H1(children='Structure Relaxation ...r', 'textAlign': 'center', 'maxWidth': '1200px'}),\n",
      "    layout_value=Div(children=[H1(children='Structure Relaxation ...r', 'textAlign': 'center', 'maxWidth': '1200px'})\n",
      ")\u001b[0m\n",
      "\u001b[0;32m    414\u001b[0m component_id \u001b[38;5;241m=\u001b[39m stringify_id(\u001b[38;5;28mgetattr\u001b[39m(component, \u001b[38;5;124m\"\u001b[39m\u001b[38;5;124mid\u001b[39m\u001b[38;5;124m\"\u001b[39m, \u001b[38;5;28;01mNone\u001b[39;00m))\n",
      "\u001b[0;32m    415\u001b[0m \u001b[38;5;28;01mif\u001b[39;00m component_id \u001b[38;5;129;01mand\u001b[39;00m component_id \u001b[38;5;129;01min\u001b[39;00m component_ids:\n",
      "\u001b[1;32m--> 416\u001b[0m     \u001b[38;5;28;01mraise\u001b[39;00m exceptions\u001b[38;5;241m.\u001b[39mDuplicateIdError(\n",
      "        exceptions \u001b[1;34m= <module 'dash.exceptions' from '/Users/janosh/.venv/py310/lib/python3.10/site-packages/dash/exceptions.py'>\u001b[0m\n",
      "\u001b[0;32m    417\u001b[0m         \u001b[38;5;124mf\u001b[39m\u001b[38;5;124m\"\"\"\u001b[39m\n",
      "\u001b[0;32m    418\u001b[0m \u001b[38;5;124m        Duplicate component id found in the initial layout: `\u001b[39m\u001b[38;5;132;01m{\u001b[39;00mcomponent_id\u001b[38;5;132;01m}\u001b[39;00m\u001b[38;5;124m`\u001b[39m\n",
      "\u001b[0;32m    419\u001b[0m \u001b[38;5;124m        \u001b[39m\u001b[38;5;124m\"\"\"\u001b[39m\n",
      "\u001b[0;32m    420\u001b[0m     )\n",
      "\u001b[0;32m    421\u001b[0m component_ids\u001b[38;5;241m.\u001b[39madd(component_id)\n",
      "\n",
      "\u001b[1;31mDuplicateIdError\u001b[0m: Duplicate component id found in the initial layout: `CTstructure`\n",
      "\n"
     ]
    },
    {
     "data": {
      "text/html": [
       "\n",
       "        <iframe\n",
       "            width=\"100%\"\n",
       "            height=\"800\"\n",
       "            src=\"http://127.0.0.1:8050/\"\n",
       "            frameborder=\"0\"\n",
       "            allowfullscreen\n",
       "            \n",
       "        ></iframe>\n",
       "        "
      ],
      "text/plain": [
       "<IPython.lib.display.IFrame at 0x2acdfff10>"
      ]
     },
     "metadata": {},
     "output_type": "display_data"
    }
   ],
   "source": [
    "import crystal_toolkit.components as ctc\n",
    "import plotly.express as px\n",
    "import plotly.graph_objects as go\n",
    "from crystal_toolkit.settings import SETTINGS\n",
    "from dash import dcc, html\n",
    "from dash.dependencies import Input, Output\n",
    "from jupyter_dash import JupyterDash\n",
    "from pymatgen.core import Structure\n",
    "\n",
    "app = JupyterDash(prevent_initial_callbacks=True, assets_folder=SETTINGS.ASSETS_PATH)\n",
    "\n",
    "struct_comp = ctc.StructureMoleculeComponent(id=\"structure\", struct_or_mol=structure)\n",
    "\n",
    "\n",
    "step_size = max(1, len(struct_traj) // 20)  # ensure slider has max 20 steps\n",
    "slider = dcc.Slider(\n",
    "    id=\"slider\", min=0, max=len(struct_traj) - 1, step=step_size, updatemode=\"drag\"\n",
    ")\n",
    "\n",
    "\n",
    "def plot_energy(df: pd.DataFrame, step: int) -> go.Figure:\n",
    "    \"\"\"Plot energy as a function of relaxation step.\"\"\"\n",
    "    href = f\"https://materialsproject.org/materials/{mp_id}\"\n",
    "    title = f\"<a {href=}>{mp_id}</a> - {spg_col} = {df[spg_col][step]}\"\n",
    "    fig = px.line(df, y=e_col, template=\"plotly_white\", title=title)\n",
    "    fig.add_vline(x=step, line=dict(dash=\"dash\", width=1))\n",
    "    anno = dict(text=\"MP final energy\", yanchor=\"top\")\n",
    "    fig.add_hline(\n",
    "        y=mp_energy, line=dict(dash=\"dot\", width=0.5, color=\"darkblue\"), annotation=anno\n",
    "    )\n",
    "    return fig\n",
    "\n",
    "\n",
    "graph = dcc.Graph(id=\"fig\", figure=plot_energy(df_traj, 0), style={\"maxWidth\": \"50%\"})\n",
    "\n",
    "app.layout = html.Div(\n",
    "    [\n",
    "        html.H1(\n",
    "            \"Structure Relaxation Trajectory\", style=dict(margin=\"1em\", fontSize=\"2em\")\n",
    "        ),\n",
    "        html.P(\"Drag slider to see structure at different relaxation steps.\"),\n",
    "        slider,\n",
    "        html.Div([struct_comp.layout(), graph], style=dict(display=\"flex\", gap=\"2em\")),\n",
    "    ],\n",
    "    style=dict(\n",
    "        margin=\"2em auto\", placeItems=\"center\", textAlign=\"center\", maxWidth=\"1200px\"\n",
    "    ),\n",
    ")\n",
    "\n",
    "ctc.register_crystal_toolkit(app=app, layout=app.layout)\n",
    "\n",
    "\n",
    "@app.callback(\n",
    "    Output(struct_comp.id(), \"data\"), Output(graph, \"figure\"), Input(slider, \"value\")\n",
    ")\n",
    "def update_structure(step: int) -> tuple[Structure, go.Figure]:\n",
    "    \"\"\"Update the structure displayed in the StructureMoleculeComponent and the\n",
    "    dashed vertical line in the figure when the slider is moved.\n",
    "    \"\"\"\n",
    "    return struct_traj[step], plot_energy(df_traj, step)\n",
    "\n",
    "\n",
    "app.run_server(mode=\"inline\", height=800)"
   ]
  }
 ],
 "metadata": {
  "kernelspec": {
   "display_name": "py310",
   "language": "python",
   "name": "python3"
  },
  "language_info": {
   "codemirror_mode": {
    "name": "ipython",
    "version": 3
   },
   "file_extension": ".py",
   "mimetype": "text/x-python",
   "name": "python",
   "nbconvert_exporter": "python",
   "pygments_lexer": "ipython3",
   "version": "3.10.9"
  }
 },
 "nbformat": 4,
 "nbformat_minor": 5
}
