{
 "cells": [
  {
   "cell_type": "markdown",
   "id": "f8c75a16",
   "metadata": {},
   "source": [
    "# Crystaltoolkit Relaxation Viewer\n",
    "\n",
    "This notebook shows how to visualize a CHGNet relaxation trajectory in a Plotly Dash app using Crystal Toolkit."
   ]
  },
  {
   "cell_type": "code",
   "execution_count": null,
   "id": "7ead933c",
   "metadata": {},
   "outputs": [],
   "source": [
    "from __future__ import annotations\n",
    "\n",
    "import numpy as np\n",
    "from pymatgen.core import Structure"
   ]
  },
  {
   "cell_type": "code",
   "execution_count": null,
   "id": "208fa4aa",
   "metadata": {},
   "outputs": [
    {
     "name": "stdout",
     "output_type": "stream",
     "text": [
      "('Pmmn', 59)\n"
     ]
    },
    {
     "data": {
      "text/plain": [
       "('P1', 1)"
      ]
     },
     "execution_count": null,
     "metadata": {},
     "output_type": "execute_result"
    }
   ],
   "source": [
    "structure = Structure.from_file(\"./o-LiMnO2_unit.cif\")\n",
    "print(structure.get_space_group_info())\n",
    "\n",
    "# perturb all atom positions by a small amount\n",
    "for site in structure:\n",
    "    site.coords += np.random.normal(size=3) * 0.3\n",
    "\n",
    "# stretch the cell by a small amount\n",
    "structure.scale_lattice(structure.volume * 1.1)\n",
    "\n",
    "structure.get_space_group_info()"
   ]
  },
  {
   "cell_type": "code",
   "execution_count": null,
   "id": "5d6e9fcc",
   "metadata": {},
   "outputs": [
    {
     "name": "stdout",
     "output_type": "stream",
     "text": [
      "CHGNet initialized with 400,438 parameters\n",
      "CHGNet will run on cpu\n",
      "      Step     Time          Energy         fmax\n",
      "*Force-consistent energies used in optimization.\n",
      "FIRE:    0 15:57:43      -53.022331*      21.0648\n",
      "FIRE:    1 15:57:43      -54.552948*      10.8460\n",
      "FIRE:    2 15:57:43      -54.989319*       7.2947\n",
      "FIRE:    3 15:57:43      -55.410568*       3.5495\n",
      "FIRE:    4 15:57:43      -55.484802*       7.7296\n",
      "FIRE:    5 15:57:43      -55.577263*       6.4933\n",
      "FIRE:    6 15:57:43      -55.720509*       4.2097\n",
      "FIRE:    7 15:57:43      -55.859726*       2.9528\n",
      "FIRE:    8 15:57:43      -55.956528*       2.6131\n",
      "FIRE:    9 15:57:43      -56.020336*       3.7622\n",
      "FIRE:   10 15:57:44      -56.096500*       4.8202\n",
      "FIRE:   11 15:57:44      -56.210766*       4.9993\n",
      "FIRE:   12 15:57:44      -56.382362*       4.2564\n",
      "FIRE:   13 15:57:44      -56.594078*       2.5059\n",
      "FIRE:   14 15:57:44      -56.781483*       2.2923\n",
      "FIRE:   15 15:57:44      -56.902622*       4.4940\n",
      "FIRE:   16 15:57:44      -57.080509*       5.0036\n",
      "FIRE:   17 15:57:44      -57.347580*       2.0181\n",
      "FIRE:   18 15:57:44      -57.522011*       2.6242\n",
      "FIRE:   19 15:57:44      -57.657749*       3.5763\n",
      "FIRE:   20 15:57:44      -57.840237*       2.3119\n",
      "FIRE:   21 15:57:44      -57.965275*       4.1436\n",
      "FIRE:   22 15:57:44      -58.179523*       2.6216\n",
      "FIRE:   23 15:57:44      -58.303951*       3.5021\n",
      "FIRE:   24 15:57:44      -58.341496*       2.7723\n",
      "FIRE:   25 15:57:44      -58.393845*       1.5780\n",
      "FIRE:   26 15:57:44      -58.438442*       1.4841\n",
      "FIRE:   27 15:57:44      -58.475945*       1.6857\n",
      "FIRE:   28 15:57:44      -58.519516*       1.8839\n",
      "FIRE:   29 15:57:45      -58.569107*       1.3013\n",
      "FIRE:   30 15:57:45      -58.610729*       1.1383\n",
      "FIRE:   31 15:57:45      -58.645130*       1.7570\n",
      "FIRE:   32 15:57:45      -58.684212*       1.4906\n",
      "FIRE:   33 15:57:45      -58.720707*       0.6555\n",
      "FIRE:   34 15:57:45      -58.732201*       1.3828\n",
      "FIRE:   35 15:57:45      -58.736069*       1.1353\n",
      "FIRE:   36 15:57:45      -58.741795*       0.7123\n",
      "FIRE:   37 15:57:45      -58.746964*       0.6421\n",
      "FIRE:   38 15:57:45      -58.750626*       0.5775\n",
      "FIRE:   39 15:57:45      -58.753880*       0.7687\n",
      "FIRE:   40 15:57:45      -58.758316*       0.8328\n",
      "FIRE:   41 15:57:45      -58.764366*       0.7691\n",
      "FIRE:   42 15:57:45      -58.771755*       0.5163\n",
      "FIRE:   43 15:57:45      -58.778664*       0.4315\n",
      "FIRE:   44 15:57:45      -58.784710*       0.7112\n",
      "FIRE:   45 15:57:45      -58.792229*       0.6956\n",
      "FIRE:   46 15:57:45      -58.801456*       0.3498\n",
      "FIRE:   47 15:57:46      -58.808506*       0.4788\n",
      "FIRE:   48 15:57:46      -58.815205*       0.6650\n",
      "FIRE:   49 15:57:46      -58.823997*       0.2606\n",
      "FIRE:   50 15:57:46      -58.830246*       0.5896\n",
      "FIRE:   51 15:57:46      -58.838661*       0.3249\n",
      "FIRE:   52 15:57:46      -58.845451*       0.6113\n",
      "FIRE:   53 15:57:46      -58.855946*       0.2048\n",
      "FIRE:   54 15:57:46      -58.863998*       0.5947\n",
      "FIRE:   55 15:57:46      -58.873108*       0.8151\n",
      "FIRE:   56 15:57:46      -58.876217*       0.3241\n",
      "FIRE:   57 15:57:46      -58.877335*       0.3684\n",
      "FIRE:   58 15:57:46      -58.877663*       0.3092\n",
      "FIRE:   59 15:57:46      -58.878208*       0.2350\n",
      "FIRE:   60 15:57:46      -58.878811*       0.2360\n",
      "FIRE:   61 15:57:46      -58.879395*       0.2366\n",
      "FIRE:   62 15:57:46      -58.880009*       0.2356\n",
      "FIRE:   63 15:57:46      -58.880753*       0.2316\n",
      "FIRE:   64 15:57:46      -58.881710*       0.2244\n",
      "FIRE:   65 15:57:47      -58.882977*       0.2133\n",
      "FIRE:   66 15:57:47      -58.884464*       0.1992\n",
      "FIRE:   67 15:57:47      -58.886093*       0.2000\n",
      "FIRE:   68 15:57:47      -58.888004*       0.2003\n",
      "FIRE:   69 15:57:47      -58.890434*       0.1991\n",
      "FIRE:   70 15:57:47      -58.893242*       0.1964\n",
      "FIRE:   71 15:57:47      -58.896320*       0.1939\n",
      "FIRE:   72 15:57:47      -58.900047*       0.1929\n",
      "FIRE:   73 15:57:47      -58.904163*       0.1927\n",
      "FIRE:   74 15:57:47      -58.908916*       0.1894\n",
      "FIRE:   75 15:57:47      -58.914215*       0.1826\n",
      "FIRE:   76 15:57:47      -58.920341*       0.1791\n",
      "FIRE:   77 15:57:47      -58.927048*       0.1731\n",
      "FIRE:   78 15:57:47      -58.934242*       0.3011\n",
      "FIRE:   79 15:57:47      -58.941555*       0.4663\n",
      "FIRE:   80 15:57:47      -58.947411*       0.8206\n",
      "FIRE:   81 15:57:47      -58.950554*       0.1518\n",
      "FIRE:   82 15:57:47      -58.949261*       0.6370\n",
      "FIRE:   83 15:57:48      -58.949997*       0.5005\n",
      "FIRE:   84 15:57:48      -58.950905*       0.2597\n",
      "FIRE:   85 15:57:48      -58.951355*       0.1284\n",
      "FIRE:   86 15:57:48      -58.951221*       0.2809\n",
      "FIRE:   87 15:57:48      -58.951263*       0.2665\n",
      "FIRE:   88 15:57:48      -58.951351*       0.2386\n",
      "FIRE:   89 15:57:48      -58.951458*       0.1984\n",
      "FIRE:   90 15:57:48      -58.951584*       0.1488\n",
      "FIRE:   91 15:57:48      -58.951698*       0.1268\n",
      "FIRE:   92 15:57:48      -58.951801*       0.1272\n",
      "FIRE:   93 15:57:48      -58.951889*       0.1275\n",
      "FIRE:   94 15:57:48      -58.951962*       0.1278\n",
      "FIRE:   95 15:57:48      -58.952061*       0.1279\n",
      "FIRE:   96 15:57:48      -58.952194*       0.1415\n",
      "FIRE:   97 15:57:48      -58.952393*       0.1387\n",
      "FIRE:   98 15:57:48      -58.952663*       0.1262\n",
      "FIRE:   99 15:57:49      -58.952976*       0.1248\n",
      "FIRE:  100 15:57:49      -58.953335*       0.1232\n",
      "FIRE:  101 15:57:49      -58.953705*       0.1214\n",
      "FIRE:  102 15:57:49      -58.954182*       0.1199\n",
      "FIRE:  103 15:57:49      -58.954796*       0.1188\n",
      "FIRE:  104 15:57:49      -58.955498*       0.1178\n",
      "FIRE:  105 15:57:49      -58.956272*       0.1162\n",
      "FIRE:  106 15:57:49      -58.957245*       0.1132\n",
      "FIRE:  107 15:57:49      -58.958347*       0.1088\n",
      "FIRE:  108 15:57:49      -58.959606*       0.1049\n",
      "FIRE:  109 15:57:49      -58.961075*       0.1018\n",
      "FIRE:  110 15:57:49      -58.962719*       0.0969\n"
     ]
    }
   ],
   "source": [
    "import pandas as pd\n",
    "\n",
    "from chgnet.model import StructOptimizer\n",
    "\n",
    "results = StructOptimizer().relax(structure)"
   ]
  },
  {
   "cell_type": "code",
   "execution_count": null,
   "id": "c04ebd43",
   "metadata": {},
   "outputs": [],
   "source": [
    "struct_traj: list[Structure] = []\n",
    "for idx, coords in enumerate(results[\"trajectory\"].atom_positions):\n",
    "    coords = results[\"trajectory\"].atom_positions[idx]\n",
    "    lattice = results[\"trajectory\"].cells[idx]\n",
    "    struct = Structure(lattice, structure.species, coords, coords_are_cartesian=True)\n",
    "    struct_traj.append(struct)\n",
    "\n",
    "e_col = \"energy (eV/atom)\"\n",
    "vol_col = \"volume (A^3)\"\n",
    "spg_col = \"spacegroup\"\n",
    "df_traj = pd.DataFrame(\n",
    "    {\n",
    "        e_col: results[\"trajectory\"].energies,\n",
    "        vol_col: [struct.volume for struct in struct_traj],\n",
    "        spg_col: [struct.get_space_group_info() for struct in struct_traj],\n",
    "    }\n",
    ")\n",
    "df_traj.index.name = \"step\""
   ]
  },
  {
   "cell_type": "code",
   "execution_count": null,
   "id": "c9f16422",
   "metadata": {},
   "outputs": [
    {
     "name": "stderr",
     "output_type": "stream",
     "text": [
      "/Users/janosh/dev/crystaltoolkit/crystal_toolkit/components/diffraction_tem.py:18: UserWarning: The TEMDiffractionComponent requires the py4DSTEM package.\n",
      "  warn(\"The TEMDiffractionComponent requires the py4DSTEM package.\")\n"
     ]
    },
    {
     "name": "stdout",
     "output_type": "stream",
     "text": [
      "Dash is running on http://127.0.0.1:8050/\n",
      "\n"
     ]
    },
    {
     "data": {
      "text/html": [
       "\n",
       "        <iframe\n",
       "            width=\"100%\"\n",
       "            height=\"800\"\n",
       "            src=\"http://127.0.0.1:8050/\"\n",
       "            frameborder=\"0\"\n",
       "            allowfullscreen\n",
       "            \n",
       "        ></iframe>\n",
       "        "
      ],
      "text/plain": [
       "<IPython.lib.display.IFrame at 0x28fccd420>"
      ]
     },
     "metadata": {},
     "output_type": "display_data"
    }
   ],
   "source": [
    "import crystal_toolkit.components as ctc\n",
    "import plotly.express as px\n",
    "import plotly.graph_objects as go\n",
    "from crystal_toolkit.settings import SETTINGS\n",
    "from dash import dcc, html\n",
    "from dash.dependencies import Input, Output\n",
    "from jupyter_dash import JupyterDash\n",
    "from pymatgen.core import Structure\n",
    "\n",
    "app = JupyterDash(prevent_initial_callbacks=True, assets_folder=SETTINGS.ASSETS_PATH)\n",
    "\n",
    "struct_comp = ctc.StructureMoleculeComponent(id=\"structure\", struct_or_mol=structure)\n",
    "\n",
    "\n",
    "step_size = max(1, len(struct_traj) // 20)  # ensure slider has max 20 steps\n",
    "slider = dcc.Slider(\n",
    "    id=\"slider\", min=0, max=len(struct_traj) - 1, value=0, step=step_size\n",
    ")\n",
    "\n",
    "\n",
    "def plot_energy(df: pd.DataFrame, step: int) -> go.Figure:\n",
    "    \"\"\"Plot energy as a function of relaxation step.\"\"\"\n",
    "    title = f\"{spg_col} = {df[spg_col][step]}\"\n",
    "    fig = px.line(df, y=e_col, template=\"plotly_white\", title=title)\n",
    "    fig.add_vline(x=step, line=dict(dash=\"dash\", width=1))\n",
    "    return fig\n",
    "\n",
    "\n",
    "graph = dcc.Graph(id=\"fig\", figure=plot_energy(df_traj, 0), style={\"maxWidth\": \"50%\"})\n",
    "\n",
    "app.layout = html.Div(\n",
    "    [\n",
    "        html.H1(\n",
    "            \"Structure Relaxation Trajectory\", style=dict(margin=\"1em\", fontSize=\"2em\")\n",
    "        ),\n",
    "        html.P(\"Drag slider to see structure at different relaxation steps.\"),\n",
    "        slider,\n",
    "        html.Div([struct_comp.layout(), graph], style=dict(display=\"flex\", gap=\"2em\")),\n",
    "    ],\n",
    "    style=dict(\n",
    "        margin=\"2em auto\", placeItems=\"center\", textAlign=\"center\", maxWidth=\"1200px\"\n",
    "    ),\n",
    ")\n",
    "\n",
    "ctc.register_crystal_toolkit(app=app, layout=app.layout)\n",
    "\n",
    "\n",
    "@app.callback(\n",
    "    Output(struct_comp.id(), \"data\"), Output(graph, \"figure\"), Input(slider, \"value\")\n",
    ")\n",
    "def update_structure(step: int) -> tuple[Structure, go.Figure]:\n",
    "    \"\"\"Update the structure displayed in the StructureMoleculeComponent and the\n",
    "    dashed vertical line in the figure when the slider is moved.\n",
    "    \"\"\"\n",
    "    return struct_traj[step], plot_energy(df_traj, step)\n",
    "\n",
    "\n",
    "app.run_server(mode=\"inline\", height=800)"
   ]
  }
 ],
 "metadata": {
  "kernelspec": {
   "display_name": "py310",
   "language": "python",
   "name": "python3"
  },
  "language_info": {
   "codemirror_mode": {
    "name": "ipython",
    "version": 3
   },
   "file_extension": ".py",
   "mimetype": "text/x-python",
   "name": "python",
   "nbconvert_exporter": "python",
   "pygments_lexer": "ipython3",
   "version": "3.10.9"
  }
 },
 "nbformat": 4,
 "nbformat_minor": 5
}
