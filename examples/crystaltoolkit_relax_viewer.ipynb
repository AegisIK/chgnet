{
 "cells": [
  {
   "cell_type": "markdown",
   "id": "f8c75a16",
   "metadata": {},
   "source": [
    "# Crystaltoolkit Relaxation Viewer\n",
    "\n",
    "This notebook shows how to visualize a CHGNet relaxation trajectory in a Plotly Dash app using Crystal Toolkit."
   ]
  },
  {
   "cell_type": "code",
   "execution_count": null,
   "id": "7ead933c",
   "metadata": {},
   "outputs": [],
   "source": [
    "from __future__ import annotations\n",
    "\n",
    "import numpy as np\n",
    "from pymatgen.core import Structure"
   ]
  },
  {
   "cell_type": "code",
   "execution_count": null,
   "id": "208fa4aa",
   "metadata": {},
   "outputs": [
    {
     "name": "stdout",
     "output_type": "stream",
     "text": [
      "Full Formula (Li2 Mn2 O4)\n",
      "Reduced Formula: LiMnO2\n",
      "abc   :   2.868779   4.634475   5.832507\n",
      "angles:  90.000000  90.000000  90.000000\n",
      "pbc   :       True       True       True\n",
      "Sites (8)\n",
      "  #  SP      a    b         c\n",
      "---  ----  ---  ---  --------\n",
      "  0  Li+   0.5  0.5  0.37975\n",
      "  1  Li+   0    0    0.62025\n",
      "  2  Mn3+  0.5  0.5  0.863252\n",
      "  3  Mn3+  0    0    0.136747\n",
      "  4  O2-   0.5  0    0.360824\n",
      "  5  O2-   0    0.5  0.098514\n",
      "  6  O2-   0.5  0    0.901486\n",
      "  7  O2-   0    0.5  0.639176\n"
     ]
    }
   ],
   "source": [
    "structure = Structure.from_file(\"./o-LiMnO2_unit.cif\")\n",
    "print(structure)\n",
    "\n",
    "# perturb all atom positions by a small amount\n",
    "for site in structure:\n",
    "    site.coords += np.random.normal(size=3) * 0.1\n",
    "\n",
    "# stretch the cell by a small amount\n",
    "# structure.scale_lattice(structure.volume * 1.1)\n",
    "\n",
    "# structure.get_space_group_info()"
   ]
  },
  {
   "cell_type": "code",
   "execution_count": null,
   "id": "5d6e9fcc",
   "metadata": {},
   "outputs": [
    {
     "name": "stdout",
     "output_type": "stream",
     "text": [
      "CHGNet initialized with 400,438 parameters\n",
      "CHGNet will run on cpu\n",
      "      Step     Time          Energy         fmax\n",
      "*Force-consistent energies used in optimization.\n",
      "FIRE:    0 16:56:55      -58.602581*       2.7941\n",
      "FIRE:    1 16:56:55      -58.687492*       3.6510\n",
      "FIRE:    2 16:56:55      -58.745514*       1.8767\n",
      "FIRE:    3 16:56:55      -58.778030*       1.3059\n",
      "FIRE:    4 16:56:55      -58.782005*       1.2717\n",
      "FIRE:    5 16:56:55      -58.788986*       1.2080\n",
      "FIRE:    6 16:56:55      -58.797585*       1.1220\n",
      "FIRE:    7 16:56:55      -58.806774*       1.0215\n",
      "FIRE:    8 16:56:55      -58.816338*       0.9132\n",
      "FIRE:    9 16:56:55      -58.826687*       0.8259\n",
      "FIRE:   10 16:56:56      -58.838154*       0.7950\n",
      "FIRE:   11 16:56:56      -58.851761*       0.7490\n",
      "FIRE:   12 16:56:56      -58.866394*       0.6859\n",
      "FIRE:   13 16:56:56      -58.880363*       0.6057\n",
      "FIRE:   14 16:56:56      -58.893337*       0.5547\n",
      "FIRE:   15 16:56:56      -58.906376*       0.4945\n",
      "FIRE:   16 16:56:56      -58.918114*       0.3056\n",
      "FIRE:   17 16:56:56      -58.925564*       0.4451\n",
      "FIRE:   18 16:56:56      -58.930809*       0.4450\n",
      "FIRE:   19 16:56:56      -58.934509*       0.3810\n",
      "FIRE:   20 16:56:56      -58.935158*       0.3714\n",
      "FIRE:   21 16:56:56      -58.936378*       0.3529\n",
      "FIRE:   22 16:56:56      -58.938026*       0.3316\n",
      "FIRE:   23 16:56:56      -58.939991*       0.3199\n",
      "FIRE:   24 16:56:56      -58.942173*       0.3032\n",
      "FIRE:   25 16:56:56      -58.944489*       0.2889\n",
      "FIRE:   26 16:56:56      -58.946846*       0.2792\n",
      "FIRE:   27 16:56:56      -58.949326*       0.2673\n",
      "FIRE:   28 16:56:56      -58.951771*       0.2507\n",
      "FIRE:   29 16:56:56      -58.954048*       0.2250\n",
      "FIRE:   30 16:56:56      -58.956078*       0.1871\n",
      "FIRE:   31 16:56:56      -58.957726*       0.1397\n",
      "FIRE:   32 16:56:56      -58.959133*       0.1706\n",
      "FIRE:   33 16:56:57      -58.960670*       0.1996\n",
      "FIRE:   34 16:56:57      -58.962551*       0.2031\n",
      "FIRE:   35 16:56:57      -58.964962*       0.1778\n",
      "FIRE:   36 16:56:57      -58.967632*       0.1641\n",
      "FIRE:   37 16:56:57      -58.970116*       0.1383\n",
      "FIRE:   38 16:56:57      -58.971725*       0.1179\n",
      "FIRE:   39 16:56:57      -58.972134*       0.1657\n",
      "FIRE:   40 16:56:57      -58.972317*       0.1153\n",
      "FIRE:   41 16:56:57      -58.972542*       0.0982\n"
     ]
    }
   ],
   "source": [
    "import pandas as pd\n",
    "\n",
    "from chgnet.model import StructOptimizer\n",
    "\n",
    "results = StructOptimizer().relax(structure)"
   ]
  },
  {
   "cell_type": "code",
   "execution_count": null,
   "id": "c04ebd43",
   "metadata": {},
   "outputs": [],
   "source": [
    "struct_traj: list[Structure] = []\n",
    "for idx, coords in enumerate(results[\"trajectory\"].atom_positions):\n",
    "    coords = results[\"trajectory\"].atom_positions[idx]\n",
    "    lattice = results[\"trajectory\"].cells[idx]\n",
    "    struct = Structure(lattice, structure.species, coords)\n",
    "    struct_traj.append(struct)\n",
    "\n",
    "e_col = \"energy (eV/atom)\"\n",
    "df_traj = pd.DataFrame({e_col: results[\"trajectory\"].energies})\n",
    "df_traj.index.name = \"step\""
   ]
  },
  {
   "cell_type": "code",
   "execution_count": null,
   "id": "c9f16422",
   "metadata": {},
   "outputs": [
    {
     "name": "stderr",
     "output_type": "stream",
     "text": [
      "/Users/janosh/dev/crystaltoolkit/crystal_toolkit/components/diffraction_tem.py:18: UserWarning: The TEMDiffractionComponent requires the py4DSTEM package.\n",
      "  warn(\"The TEMDiffractionComponent requires the py4DSTEM package.\")\n",
      "/Users/janosh/dev/crystaltoolkit/crystal_toolkit/components/localenv.py:50: UserWarning: Using dscribe SOAP and REMatchKernel requires the dscribe package which was made optional since it in turn requires numba and numba was a common source of installation issues.\n",
      "  warn(\n"
     ]
    },
    {
     "name": "stdout",
     "output_type": "stream",
     "text": [
      "Dash is running on http://127.0.0.1:8050/\n",
      "\n"
     ]
    },
    {
     "data": {
      "text/html": [
       "\n",
       "        <iframe\n",
       "            width=\"100%\"\n",
       "            height=\"650\"\n",
       "            src=\"http://127.0.0.1:8050/\"\n",
       "            frameborder=\"0\"\n",
       "            allowfullscreen\n",
       "            \n",
       "        ></iframe>\n",
       "        "
      ],
      "text/plain": [
       "<IPython.lib.display.IFrame at 0x2995c7550>"
      ]
     },
     "metadata": {},
     "output_type": "display_data"
    }
   ],
   "source": [
    "import crystal_toolkit.components as ctc\n",
    "import plotly.express as px\n",
    "from crystal_toolkit.settings import SETTINGS\n",
    "from dash import dcc, html\n",
    "from dash.dependencies import Input, Output\n",
    "from jupyter_dash import JupyterDash\n",
    "from pymatgen.core import Structure\n",
    "\n",
    "app = JupyterDash(prevent_initial_callbacks=True, assets_folder=SETTINGS.ASSETS_PATH)\n",
    "\n",
    "struct_comp = ctc.StructureMoleculeComponent(id=\"structure\", struct_or_mol=structure)\n",
    "\n",
    "\n",
    "step_size = max(1, len(struct_traj) // 50)  # ensure slider has max 50 values\n",
    "slider = dcc.Slider(\n",
    "    id=\"slider\", min=0, max=len(struct_traj) - 1, value=0, step=step_size\n",
    ")\n",
    "\n",
    "fig = px.line(\n",
    "    df_traj, y=e_col, template=\"plotly_white\", title=\"Energy during relaxation\"\n",
    ")\n",
    "fig.add_vline(x=0, line=dict(dash=\"dash\", width=1))\n",
    "graph = dcc.Graph(id=\"fig\", figure=fig, style={\"maxWidth\": \"50%\"})\n",
    "\n",
    "app.layout = html.Div(\n",
    "    [\n",
    "        html.H1(\n",
    "            \"Structure Relaxation Trajectory\", style=dict(margin=\"1em\", fontSize=\"2em\")\n",
    "        ),\n",
    "        html.P(\"Drag slider to see structure at different relaxation steps.\"),\n",
    "        slider,\n",
    "        html.Div([struct_comp.layout(), graph], style=dict(display=\"flex\", gap=\"2em\")),\n",
    "    ],\n",
    "    style=dict(margin=\"10vw\", placeItems=\"center\", textAlign=\"center\"),\n",
    ")\n",
    "\n",
    "ctc.register_crystal_toolkit(app=app, layout=app.layout)\n",
    "\n",
    "\n",
    "@app.callback(\n",
    "    Output(struct_comp.id(), \"data\"), Output(graph, \"figure\"), Input(slider, \"value\")\n",
    ")\n",
    "def update_structure(step: int) -> tuple[Structure, px.Figure]:\n",
    "    \"\"\"Update the structure displayed in the StructureMoleculeComponent and the\n",
    "    dashed vertical line in the figure when the slider is moved.\n",
    "    \"\"\"\n",
    "    fig = px.line(df_traj, template=\"plotly_white\", title=\"Energy and Forces\")\n",
    "    fig.add_vline(x=step, line=dict(dash=\"dash\", width=1))\n",
    "    return struct_traj[step], fig\n",
    "\n",
    "\n",
    "app.run_server(mode=\"inline\")"
   ]
  }
 ],
 "metadata": {
  "kernelspec": {
   "display_name": "py310",
   "language": "python",
   "name": "python3"
  },
  "language_info": {
   "codemirror_mode": {
    "name": "ipython",
    "version": 3
   },
   "file_extension": ".py",
   "mimetype": "text/x-python",
   "name": "python",
   "nbconvert_exporter": "python",
   "pygments_lexer": "ipython3",
   "version": "3.10.9"
  }
 },
 "nbformat": 4,
 "nbformat_minor": 5
}
